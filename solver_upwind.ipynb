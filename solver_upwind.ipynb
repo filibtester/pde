{
 "cells": [
  {
   "cell_type": "code",
   "execution_count": 1,
   "metadata": {},
   "outputs": [],
   "source": [
    "import numpy as np\n",
    "import matplotlib.pyplot as plt"
   ]
  },
  {
   "cell_type": "code",
   "execution_count": null,
   "metadata": {},
   "outputs": [],
   "source": [
    "def solver_upwind(T,dt,dx,v,L,h):\n",
    "    Nt = int(round(T/float(dt)))\n",
    "    t = np.linspace(0, Nt*dt, Nt+1)   # Mesh points in time\n",
    "    Nx = int(round(L/dx))\n",
    "    x = np.linspace(0, L, Nx+1)  # Mesh points in space \n",
    "    \n",
    "    C = v*dt/dx   # Courant number\n",
    "    \n",
    "    # Set initial condition x(x,0) = h(x)\n",
    "    for i in range(0, Nx+1):\n",
    "        u_n[i] = h(x[i])\n",
    "    \n",
    "    for n in range(0,Nt):\n",
    "        u[i] = u_n[i] - C * (u_n[i] - u_n[i-1])\n",
    "        \n",
    "    return u\n",
    "    \n"
   ]
  }
 ],
 "metadata": {
  "kernelspec": {
   "display_name": "Python 3",
   "language": "python",
   "name": "python3"
  },
  "language_info": {
   "codemirror_mode": {
    "name": "ipython",
    "version": 3
   },
   "file_extension": ".py",
   "mimetype": "text/x-python",
   "name": "python",
   "nbconvert_exporter": "python",
   "pygments_lexer": "ipython3",
   "version": "3.6.4"
  }
 },
 "nbformat": 4,
 "nbformat_minor": 2
}
